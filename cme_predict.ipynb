{
 "cells": [
  {
   "cell_type": "markdown",
   "metadata": {},
   "source": [
    "# Predicting Coronal Mass Ejections Using SDO/HMI Vector Magnetic Data Products and Recurrent Neural Networks"
   ]
  },
  {
   "cell_type": "markdown",
   "metadata": {},
   "source": [
    "Coronal mass ejections (CMEs) are intense bursts of magnetic flux and plasma that are ejected from the Sun into interplanetary space. They are often associated with solar flares and originate from active regions (ARs) on the Sun’s photosphere where magnetic fields are strong and evolve rapidly. Major CMEs and their associated flares can cause severe influences on the near-Earth environment, resulting in potentially life-threatening consequences. Therefore, substantial efforts are being invested in developing new technologies for early detection and forecasting of flares and CMEs.\n",
    "\n",
    "In this notebook, we demonstrate 2 machine learning models to predict whether an AR that produces an M- or X-class flare will also produce a CME. The machine learning algorithms which we use include two types of recurrent neural networks (RNNs): a long short-term memory (LSTM) network and a gated recurrent unit (GRU) network. We show the models' prediction for various time windows (T), where T is the amount of time between the initial CME and the subsuquent M- or X-class flare; using data from the National Centers for\n",
    "Environmental Information (NCEI) data catalog for years 2015-2019. The models were trained on NCEI data from years 2010-2014."
   ]
  },
  {
   "cell_type": "code",
   "execution_count": null,
   "metadata": {},
   "outputs": [],
   "source": [
    "import sys\n",
    "sys.path.insert(0, './CMEpredict')\n",
    "\n",
    "from CMEpredict import *\n",
    "\n",
    "import pandas as pd\n",
    "import matplotlib.pyplot as plt\n",
    "from sklearn.metrics import confusion_matrix as cm, roc_curve, roc_auc_score"
   ]
  },
  {
   "cell_type": "markdown",
   "metadata": {},
   "source": [
    "### Set configuration variables"
   ]
  },
  {
   "cell_type": "code",
   "execution_count": null,
   "metadata": {},
   "outputs": [],
   "source": [
    "mask_value = 0\n",
    "series_len = 20\n",
    "epochs = 20\n",
    "batch_size = 256\n",
    "nclass = 2\n",
    "start_feature = 4"
   ]
  },
  {
   "cell_type": "markdown",
   "metadata": {},
   "source": [
    "### Definition of features\n",
    "\n",
    "There are 18 features, or predicitve parameters, which characterize AR magnetic field properties for CME predicitons:\n",
    "\n",
    "1. **MEANPOT**: mean photospheric magnetic free energy\n",
    "1. **SHRGT45**: fraction of area with shear >45°\n",
    "1. **TOTPOT**: total photospheric magnetic free energy density\n",
    "1. **USFLUX**: total unsigned flux\n",
    "1. **MEANJZH**: mean current helicity\n",
    "1. **ABSNJZH**: absolute value of the net current helicity\n",
    "1. **SAVNCPP**: sum of the modulus of the net current per polarity\n",
    "1. **MEANALP**: mean characteristic twist parameter\n",
    "1. **MEANSHR**: mean shear angle\n",
    "1. **TOTUSJZ**: total unsigned vertical current\n",
    "1. **TOTUSJH**: total unsigned current helicity\n",
    "1. **MEANGAM**: mean angle of field from radial\n",
    "1. **MEANGBZ**: mean gradient of vertical field\n",
    "1. **MEANJZD**: mean vertical current density\n",
    "1. **AREA_ACR**: area of strong field pixels in the active region\n",
    "1. **R_VALUE**: sum of flux near polarity inversion line\n",
    "1. **MEANGBT**: mean gradient of total field\n",
    "1. **MEANGBH**: mean gradient of horizontal field"
   ]
  },
  {
   "cell_type": "markdown",
   "metadata": {},
   "source": [
    "### Sample of NCEI data\n",
    "\n",
    "The **Label** column has 3 values: _padding_, _N_, and _P_. _Padding_ means this is an auxiliary data sample used to construct time series for prediction. _N_ means there is a >=M class flare within the next x hours but the flare is not associated with a CME. _P_ means there is a >=M class flare within the next x hours and this flare is associated with a CME.\n",
    "\n",
    "The **NOAA AR NUM** and **HARP NUM** columns are idenfitying columns for the AR and HARP, respectively. \n",
    "\n",
    "The subsuquent 18 columns are the 18 physical SHARP features."
   ]
  },
  {
   "cell_type": "code",
   "execution_count": null,
   "metadata": {},
   "outputs": [],
   "source": [
    "names = ['Label', 'Timestamp', 'NOAA AR NUM', 'HARP NUM',\n",
    "          'TOTUSJH', 'TOTPOT', 'TOTUSJZ', 'ABSNJZH', 'SAVNCPP', 'USFLUX', 'AREA_ACR',\n",
    "          'MEANPOT', 'R_VALUE', 'SHRGT45', 'MEANGAM', 'MEANJZH', 'MEANGBT', 'MEANGBZ',\n",
    "          'MEANJZD', 'MEANGBH', 'MEANSHR', 'MEANALP']\n",
    "sample_data = pd.read_csv('CMEpredict/normalized_testing_12.csv', names=names)\n",
    "display(sample_data,)"
   ]
  },
  {
   "cell_type": "markdown",
   "metadata": {},
   "source": [
    "### Predicting\n",
    "\n",
    "We get the threshhold for binary clasification. This is a Binary Classification problem - if the modelr returns a probability which is above the threshhold then it's Positive (P), else it's Negative (N).\n",
    "\n",
    "We get n_features for each algorithm and time_window, how many of the 18 features we will use"
   ]
  },
  {
   "cell_type": "markdown",
   "metadata": {},
   "source": [
    "for 12, 36, 60\n",
    "    run both models\n",
    "    show CM for each model (no results)\n",
    "\n",
    "show ROC for all 6"
   ]
  },
  {
   "cell_type": "code",
   "execution_count": null,
   "metadata": {},
   "outputs": [],
   "source": [
    "import itertools\n",
    "time_windows = [12, 36, 60] # options are 12, 24, 36, 48, 60\n",
    "rnn_types = ['gru', 'lstm']\n",
    "\n",
    "# columns = ['Predicted Label', 'Label', 'Timestamp', 'NOAA AR NUM', 'HARP NUM',\n",
    "#                     'TOTUSJH', 'TOTPOT', 'TOTUSJZ', 'ABSNJZH', 'SAVNCPP', 'USFLUX', 'AREA_ACR',\n",
    "#                     'MEANPOT', 'R_VALUE', 'SHRGT45', 'MEANGAM', 'MEANJZH', 'MEANGBT', 'MEANGBZ',\n",
    "#                     'MEANJZD', 'MEANGBH', 'MEANSHR', 'MEANALP']\n",
    "\n",
    "cm_grid = [['TN','FP'], ['FN', 'TP']]\n",
    "\n",
    "for (time_window, type) in itertools.product(time_windows, rnn_types):\n",
    "    model_file = f'CMEpredict/{type}-{time_window}-model.h5'\n",
    "\n",
    "    n_features, threshold = get_n_features_thresh(type, time_window)\n",
    "\n",
    "    model = load_model(model_file)\n",
    "\n",
    "    test_data_file = f'CMEpredict/normalized_testing_{time_window}.csv'\n",
    "    X_test, y_test, nb_test = load_data(datafile=test_data_file,\n",
    "                                        series_len=series_len,\n",
    "                                        start_feature=start_feature,\n",
    "                                        n_features=n_features,\n",
    "                                        mask_value=mask_value,\n",
    "                                        type=type,\n",
    "                                        time_window=time_window)\n",
    "\n",
    "    prob = model.predict(X_test,\n",
    "                        batch_size=batch_size,\n",
    "                        verbose=False,\n",
    "                        steps=None)\n",
    "    # table, y_pred = get_output_table(test_data_file, type, time_window, start_feature, n_features, thresh, prob)\n",
    "\n",
    "    # data = pd.DataFrame(table, columns=columns)    \n",
    "    # display(data)\n",
    "\n",
    "    confmat = cm(y_test, [1 if p >= threshold else 0 for p in prob])\n",
    "    plt.imshow(confmat, interpolation='nearest', cmap=(plt.cm.PuBu if type =='lstm' else plt.cm.OrRd))\n",
    "    classNames = ['Negative','Positive']\n",
    "    plt.title(f'{type.upper()} {time_window} Hour Confusion Matrix')\n",
    "    plt.ylabel('True Label')\n",
    "    plt.xlabel('Predicted Label')\n",
    "    tick_marks = np.arange(len(classNames))\n",
    "    plt.xticks(tick_marks, classNames, rotation=45)\n",
    "    plt.yticks(tick_marks, classNames)\n",
    "    for i in range(2):\n",
    "        for j in range(2):\n",
    "            plt.text(j,i, f'{cm_grid[i][j]} = {confmat[i][j]}', horizontalalignment='center')\n",
    "    plt.show()"
   ]
  },
  {
   "cell_type": "code",
   "execution_count": null,
   "metadata": {},
   "outputs": [],
   "source": [
    "r_auc = roc_auc_score(y_test, lp)\n",
    "r_fpr, r_tpr, _ = roc_curve(y_test, lp)\n",
    "\n",
    "plt.plot(r_fpr, r_tpr, linestyle='--', label='Random prediction (AUROC = %0.3f)' % r_auc)\n",
    "plt.title('ROC Plot')\n",
    "# Axis labels\n",
    "plt.xlabel('False Positive Rate')\n",
    "plt.ylabel('True Positive Rate')\n",
    "# Show legend\n",
    "plt.legend() # \n",
    "# Show plot\n",
    "plt.show()"
   ]
  },
  {
   "cell_type": "code",
   "execution_count": null,
   "metadata": {},
   "outputs": [],
   "source": [
    "model_file = 'CMEpredict/gru-12-model.h5'\n",
    "\n",
    "n_features, thresh = get_n_features_thresh('gru', 12)\n",
    "\n",
    "model = load_model(model_file)\n",
    "\n",
    "print('loading testing data')\n",
    "test_data_file = 'CMEpredict/normalized_testing_12.csv'\n",
    "X_test, y_test, nb_test = load_data(datafile=test_data_file,\n",
    "                                    series_len=series_len,\n",
    "                                    start_feature=start_feature,\n",
    "                                    n_features=n_features,\n",
    "                                    mask_value=mask_value,\n",
    "                                    type='gru',\n",
    "                                    time_window=12)\n",
    "print('done loading testing data...')\n",
    "display((X_test[2]))"
   ]
  },
  {
   "cell_type": "code",
   "execution_count": null,
   "metadata": {},
   "outputs": [],
   "source": [
    "display(len(X_test[2]))"
   ]
  },
  {
   "cell_type": "code",
   "execution_count": null,
   "metadata": {},
   "outputs": [],
   "source": [
    "print('predicting testing data...')\n",
    "prob = model.predict(X_test,\n",
    "                     batch_size=batch_size,\n",
    "                     verbose=False,\n",
    "                     steps=None)\n",
    "print('done predicting...')\n",
    "table, y_pred = get_output_table(test_data_file, 'gru', 12, start_feature, n_features, thresh, prob)\n",
    "columns = ['Predicted Label', 'Label', 'Timestamp', 'NOAA AR NUM', 'HARP NUM',\n",
    "                'TOTUSJH', 'TOTPOT', 'TOTUSJZ', 'ABSNJZH', 'SAVNCPP', 'USFLUX', 'AREA_ACR',\n",
    "                'MEANPOT', 'R_VALUE', 'SHRGT45', 'MEANGAM', 'MEANJZH', 'MEANGBT', 'MEANGBZ',\n",
    "                'MEANJZD', 'MEANGBH', 'MEANSHR', 'MEANALP']\n",
    "data = pd.DataFrame(table, columns=columns)    \n",
    "display(data)"
   ]
  },
  {
   "cell_type": "markdown",
   "metadata": {},
   "source": [
    "### Confusion Matrix for GRU 12"
   ]
  },
  {
   "cell_type": "code",
   "execution_count": null,
   "metadata": {},
   "outputs": [],
   "source": [
    "lp = np.array([1 if p >= thresh else 0 for p in prob])\n",
    "confmat = cm(y_test, lp)\n",
    "import matplotlib.pyplot as plt\n",
    "plt.imshow(confmat, interpolation='nearest', cmap=plt.cm.Blues)\n",
    "classNames = ['Negative','Positive']\n",
    "plt.title('GRU 12 Confusion Matrix - Test Data')\n",
    "plt.ylabel('True label')\n",
    "plt.xlabel('Predicted label')\n",
    "tick_marks = np.arange(len(classNames))\n",
    "plt.xticks(tick_marks, classNames, rotation=45)\n",
    "plt.yticks(tick_marks, classNames)\n",
    "s = [['TN','FP'], ['FN', 'TP']]\n",
    "for i in range(2):\n",
    "    for j in range(2):\n",
    "        plt.text(j,i, str(s[i][j])+\" = \"+str(confmat[i][j]))\n",
    "plt.show()\n",
    "# plt.matshow(confmat)\n",
    "# plt.tight_layout()\n",
    "# display(y_test)\n",
    "# display(y_pred)\n",
    "# display(thresh)\n",
    "# pd.options.display.max_rows = 4000\n",
    "# display(pd.DataFrame([p for p in prob]))"
   ]
  },
  {
   "cell_type": "markdown",
   "metadata": {},
   "source": [
    "### Predict 12 hour using LSTM model"
   ]
  },
  {
   "cell_type": "code",
   "execution_count": null,
   "metadata": {},
   "outputs": [],
   "source": [
    "model_file = 'CMEpredict/lstm-12-model.h5'\n",
    "\n",
    "n_features, thresh = get_n_features_thresh('lstm', 12)\n",
    "\n",
    "model = load_model(model_file)\n",
    "\n",
    "print('loading testing data')\n",
    "test_data_file = 'CMEpredict/normalized_testing_12.csv'\n",
    "X_test, y_test, nb_test = load_data(datafile=test_data_file,\n",
    "                                    series_len=series_len,\n",
    "                                    start_feature=start_feature,\n",
    "                                    n_features=n_features,\n",
    "                                    mask_value=mask_value,\n",
    "                                    type='lstm',\n",
    "                                    time_window=12)\n",
    "print('done loading testing data...')\n",
    "# display(X_test)"
   ]
  },
  {
   "cell_type": "code",
   "execution_count": null,
   "metadata": {},
   "outputs": [],
   "source": [
    "print('predicting testing data...')\n",
    "prob = model.predict(X_test,\n",
    "                     batch_size=batch_size,\n",
    "                     verbose=False,\n",
    "                     steps=None)\n",
    "print('done predicting...')\n",
    "table, y_pred = get_output_table(test_data_file, 'lstm', 12, start_feature, n_features, thresh, prob)\n",
    "columns = ['Predicted Label', 'Label', 'Timestamp', 'NOAA AR NUM', 'HARP NUM',\n",
    "                'TOTUSJH', 'TOTPOT', 'TOTUSJZ', 'ABSNJZH', 'SAVNCPP', 'USFLUX', 'AREA_ACR',\n",
    "                'MEANPOT', 'R_VALUE', 'SHRGT45', 'MEANGAM', 'MEANJZH', 'MEANGBT', 'MEANGBZ',\n",
    "                'MEANJZD', 'MEANGBH', 'MEANSHR', 'MEANALP']\n",
    "data = pd.DataFrame(table, columns=columns)    \n",
    "display(data)"
   ]
  },
  {
   "cell_type": "markdown",
   "metadata": {},
   "source": [
    "LSTM 60"
   ]
  },
  {
   "cell_type": "code",
   "execution_count": null,
   "metadata": {},
   "outputs": [],
   "source": [
    "model_file = 'CMEpredict/lstm-60-model.h5'\n",
    "\n",
    "n_features, thresh = get_n_features_thresh('lstm', 60)\n",
    "\n",
    "model = load_model(model_file)\n",
    "\n",
    "print('loading testing data')\n",
    "test_data_file = 'CMEpredict/normalized_testing_60.csv'\n",
    "X_test, y_test, nb_test = load_data(datafile=test_data_file,\n",
    "                                    series_len=series_len,\n",
    "                                    start_feature=start_feature,\n",
    "                                    n_features=n_features,\n",
    "                                    mask_value=mask_value,\n",
    "                                    type='lstm',\n",
    "                                    time_window=60)\n",
    "print('done loading testing data...')\n",
    "display(nb_test)\n",
    "# display(X_test)"
   ]
  },
  {
   "cell_type": "code",
   "execution_count": null,
   "metadata": {},
   "outputs": [],
   "source": [
    "print('predicting testing data...')\n",
    "prob = model.predict(X_test,\n",
    "                     batch_size=batch_size,\n",
    "                     verbose=False,\n",
    "                     steps=None)\n",
    "print('done predicting...')\n",
    "table, y_pred = get_output_table(test_data_file, 'lstm', 60, start_feature, n_features, thresh, prob)\n",
    "columns = ['Predicted Label', 'Label', 'Timestamp', 'NOAA AR NUM', 'HARP NUM',\n",
    "                'TOTUSJH', 'TOTPOT', 'TOTUSJZ', 'ABSNJZH', 'SAVNCPP', 'USFLUX', 'AREA_ACR',\n",
    "                'MEANPOT', 'R_VALUE', 'SHRGT45', 'MEANGAM', 'MEANJZH', 'MEANGBT', 'MEANGBZ',\n",
    "                'MEANJZD', 'MEANGBH', 'MEANSHR', 'MEANALP']\n",
    "data = pd.DataFrame(table, columns=columns)    \n",
    "display(data)"
   ]
  },
  {
   "cell_type": "code",
   "execution_count": null,
   "metadata": {},
   "outputs": [],
   "source": [
    "lp = np.array([1 if p >= thresh else 0 for p in prob])\n",
    "confmat = cm(y_test, lp)\n",
    "import matplotlib.pyplot as plt\n",
    "plt.imshow(confmat, interpolation='nearest', cmap=plt.cm.Blues)\n",
    "classNames = ['Negative','Positive']\n",
    "plt.title('LSTM 60 Confusion Matrix - Test Data')\n",
    "plt.ylabel('True label')\n",
    "plt.xlabel('Predicted label')\n",
    "tick_marks = np.arange(len(classNames))\n",
    "plt.xticks(tick_marks, classNames, rotation=45)\n",
    "plt.yticks(tick_marks, classNames)\n",
    "s = [['TN','FP'], ['FN', 'TP']]\n",
    "for i in range(2):\n",
    "    for j in range(2):\n",
    "        plt.text(j,i, str(s[i][j])+\" = \"+str(confmat[i][j]), horizontalalignment='center')\n",
    "plt.show()\n",
    "# plt.matshow(confmat)\n",
    "# plt.tight_layout()\n",
    "# display(y_test)\n",
    "# display(y_pred)\n",
    "# display(thresh)\n",
    "# pd.options.display.max_rows = 4000\n",
    "# display(pd.DataFrame([p for p in prob]))"
   ]
  },
  {
   "cell_type": "code",
   "execution_count": null,
   "metadata": {},
   "outputs": [],
   "source": [
    "train_data_file = 'CMEpredict/normalized_training_60.csv'\n",
    "X_train, y_train, nb_train = load_data(datafile=train_data_file,\n",
    "                                        series_len=series_len,\n",
    "                                        start_feature=start_feature,\n",
    "                                        n_features=n_features,\n",
    "                                        mask_value=mask_value,\n",
    "                                        type='lstm',\n",
    "                                        time_window=60)\n",
    "\n",
    "class_weights = class_weight.compute_class_weight('balanced', np.unique(y_train), y_train)\n",
    "class_weight_ = {0: class_weights[0], 1: class_weights[1]}\n",
    "print('done loading training data...')\n",
    "\n",
    "\n",
    "model = lstm(n_features, series_len)\n",
    "\n",
    "print('training the model, wait until it is finished...')\n",
    "model.compile(loss='binary_crossentropy',\n",
    "                optimizer='RMSprop',\n",
    "                metrics=['accuracy'])\n",
    "\n",
    "history = model.fit(X_train,\n",
    "                    y_train,\n",
    "                    epochs=epochs,\n",
    "                    batch_size=batch_size,\n",
    "                    verbose=False,\n",
    "                    shuffle=True,\n",
    "                    class_weight=class_weight_)\n",
    "\n",
    "print('predicting testing data...')\n",
    "test_data_file = 'CMEpredict/normalized_testing_60.csv'\n",
    "X_test, y_test, nb_test = load_data(datafile=test_data_file,\n",
    "                                    series_len=series_len,\n",
    "                                    start_feature=start_feature,\n",
    "                                    n_features=n_features,\n",
    "                                    mask_value=mask_value,\n",
    "                                    type='lstm',\n",
    "                                    time_window=60)\n",
    "prob = model.predict(X_test,\n",
    "                     batch_size=batch_size,\n",
    "                     verbose=False,\n",
    "                     steps=None)\n",
    "print('done predicting...')\n",
    "table, y_pred = get_output_table(test_data_file, 'lstm', 60, start_feature, n_features, thresh, prob)\n",
    "columns = ['Predicted Label', 'Label', 'Timestamp', 'NOAA AR NUM', 'HARP NUM',\n",
    "                'TOTUSJH', 'TOTPOT', 'TOTUSJZ', 'ABSNJZH', 'SAVNCPP', 'USFLUX', 'AREA_ACR',\n",
    "                'MEANPOT', 'R_VALUE', 'SHRGT45', 'MEANGAM', 'MEANJZH', 'MEANGBT', 'MEANGBZ',\n",
    "                'MEANJZD', 'MEANGBH', 'MEANSHR', 'MEANALP']\n",
    "data = pd.DataFrame(table, columns=columns) \n",
    "\n",
    "\n",
    "lp = np.array([1 if p >= thresh else 0 for p in prob])\n",
    "confmat = cm(y_test, lp)\n",
    "import matplotlib.pyplot as plt\n",
    "plt.imshow(confmat, interpolation='nearest', cmap=plt.cm.Blues)\n",
    "classNames = ['Negative','Positive']\n",
    "plt.title('LSTM 60 Confusion Matrix - Retrain')\n",
    "plt.ylabel('True label')\n",
    "plt.xlabel('Predicted label')\n",
    "tick_marks = np.arange(len(classNames))\n",
    "plt.xticks(tick_marks, classNames, rotation=45)\n",
    "plt.yticks(tick_marks, classNames)\n",
    "s = [['TN','FP'], ['FN', 'TP']]\n",
    "for i in range(2):\n",
    "    for j in range(2):\n",
    "        plt.text(j,i, str(s[i][j])+\" = \"+str(confmat[i][j]), horizontalalignment='center')\n",
    "plt.show()"
   ]
  },
  {
   "cell_type": "code",
   "execution_count": null,
   "metadata": {},
   "outputs": [],
   "source": [
    "r_auc = roc_auc_score(y_test, lp)\n",
    "r_fpr, r_tpr, _ = roc_curve(y_test, lp)\n",
    "\n",
    "plt.plot(r_fpr, r_tpr, linestyle='--', label='Random prediction (AUROC = %0.3f)' % r_auc)\n",
    "plt.title('ROC Plot')\n",
    "# Axis labels\n",
    "plt.xlabel('False Positive Rate')\n",
    "plt.ylabel('True Positive Rate')\n",
    "# Show legend\n",
    "plt.legend() # \n",
    "# Show plot\n",
    "plt.show()"
   ]
  },
  {
   "cell_type": "markdown",
   "metadata": {},
   "source": [
    "#### Train your own model"
   ]
  }
 ],
 "metadata": {
  "interpreter": {
   "hash": "aee8b7b246df8f9039afb4144a1f6fd8d2ca17a180786b69acc140d282b71a49"
  },
  "kernelspec": {
   "display_name": "Python 3.9.7 64-bit",
   "language": "python",
   "name": "python3"
  },
  "language_info": {
   "codemirror_mode": {
    "name": "ipython",
    "version": 3
   },
   "file_extension": ".py",
   "mimetype": "text/x-python",
   "name": "python",
   "nbconvert_exporter": "python",
   "pygments_lexer": "ipython3",
   "version": "3.6.8"
  },
  "orig_nbformat": 4
 },
 "nbformat": 4,
 "nbformat_minor": 2
}
