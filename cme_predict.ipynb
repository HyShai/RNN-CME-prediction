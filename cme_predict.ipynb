{
 "cells": [
  {
   "cell_type": "code",
   "execution_count": null,
   "metadata": {},
   "outputs": [],
   "source": [
    "import sys\n",
    "sys.path.insert(0, './CMEpredict')\n",
    "\n",
    "from CMEpredict import *\n",
    "\n",
    "import pandas as pd\n",
    "# import matplotlib\n",
    "from sklearn.metrics import confusion_matrix as cm"
   ]
  },
  {
   "cell_type": "markdown",
   "metadata": {},
   "source": [
    "Set variables"
   ]
  },
  {
   "cell_type": "code",
   "execution_count": null,
   "metadata": {},
   "outputs": [],
   "source": [
    "mask_value = 0\n",
    "series_len = 20\n",
    "epochs = 20\n",
    "batch_size = 256\n",
    "nclass = 2\n",
    "start_feature = 4"
   ]
  },
  {
   "cell_type": "markdown",
   "metadata": {},
   "source": [
    "### Predict 12 hour using GRU model"
   ]
  },
  {
   "cell_type": "code",
   "execution_count": null,
   "metadata": {},
   "outputs": [],
   "source": [
    "model_file = 'CMEpredict/gru-12-model.h5'\n",
    "\n",
    "n_features, thresh = get_n_features_thresh('gru', 12)\n",
    "\n",
    "model = load_model(model_file)\n",
    "\n",
    "print('loading testing data')\n",
    "test_data_file = 'CMEpredict/normalized_testing_12.csv'\n",
    "X_test, y_test, nb_test = load_data(datafile=test_data_file,\n",
    "                                    series_len=series_len,\n",
    "                                    start_feature=start_feature,\n",
    "                                    n_features=n_features,\n",
    "                                    mask_value=mask_value,\n",
    "                                    type='gru',\n",
    "                                    time_window=12)\n",
    "print('done loading testing data...')\n",
    "# display(X_test)"
   ]
  },
  {
   "cell_type": "code",
   "execution_count": null,
   "metadata": {},
   "outputs": [],
   "source": [
    "print('predicting testing data...')\n",
    "prob = model.predict(X_test,\n",
    "                     batch_size=batch_size,\n",
    "                     verbose=False,\n",
    "                     steps=None)\n",
    "print('done predicting...')\n",
    "table = get_output_table(test_data_file, 'gru', 12, start_feature, n_features, thresh, prob)\n",
    "columns = ['Predicted Label', 'Label', 'Timestamp', 'NOAA AR NUM', 'HARP NUM',\n",
    "                'TOTUSJH', 'TOTPOT', 'TOTUSJZ', 'ABSNJZH', 'SAVNCPP', 'USFLUX', 'AREA_ACR',\n",
    "                'MEANPOT', 'R_VALUE', 'SHRGT45', 'MEANGAM', 'MEANJZH', 'MEANGBT', 'MEANGBZ',\n",
    "                'MEANJZD', 'MEANGBH', 'MEANSHR', 'MEANALP']\n",
    "data = pd.DataFrame(table, columns=columns)    \n",
    "display(data)"
   ]
  },
  {
   "cell_type": "markdown",
   "metadata": {},
   "source": [
    "### Confusion Matrix for GRU 12"
   ]
  },
  {
   "cell_type": "code",
   "execution_count": null,
   "metadata": {},
   "outputs": [],
   "source": [
    "# TODO"
   ]
  },
  {
   "cell_type": "markdown",
   "metadata": {},
   "source": [
    "### Predict 12 hour using LSTM model"
   ]
  },
  {
   "cell_type": "code",
   "execution_count": null,
   "metadata": {},
   "outputs": [],
   "source": [
    "model_file = 'CMEpredict/lstm-12-model.h5'\n",
    "\n",
    "n_features, thresh = get_n_features_thresh('lstm', 12)\n",
    "\n",
    "model = load_model(model_file)\n",
    "\n",
    "print('loading testing data')\n",
    "test_data_file = 'CMEpredict/normalized_testing_12.csv'\n",
    "X_test, y_test, nb_test = load_data(datafile=test_data_file,\n",
    "                                    series_len=series_len,\n",
    "                                    start_feature=start_feature,\n",
    "                                    n_features=n_features,\n",
    "                                    mask_value=mask_value,\n",
    "                                    type='lstm',\n",
    "                                    time_window=12)\n",
    "print('done loading testing data...')\n",
    "# display(X_test)"
   ]
  },
  {
   "cell_type": "code",
   "execution_count": null,
   "metadata": {},
   "outputs": [],
   "source": [
    "print('predicting testing data...')\n",
    "prob = model.predict(X_test,\n",
    "                     batch_size=batch_size,\n",
    "                     verbose=False,\n",
    "                     steps=None)\n",
    "print('done predicting...')\n",
    "table = get_output_table(test_data_file, 'lstm', 12, start_feature, n_features, thresh, prob)\n",
    "columns = ['Predicted Label', 'Label', 'Timestamp', 'NOAA AR NUM', 'HARP NUM',\n",
    "                'TOTUSJH', 'TOTPOT', 'TOTUSJZ', 'ABSNJZH', 'SAVNCPP', 'USFLUX', 'AREA_ACR',\n",
    "                'MEANPOT', 'R_VALUE', 'SHRGT45', 'MEANGAM', 'MEANJZH', 'MEANGBT', 'MEANGBZ',\n",
    "                'MEANJZD', 'MEANGBH', 'MEANSHR', 'MEANALP']\n",
    "data = pd.DataFrame(table, columns=columns)    \n",
    "display(data)"
   ]
  }
 ],
 "metadata": {
  "interpreter": {
   "hash": "aee8b7b246df8f9039afb4144a1f6fd8d2ca17a180786b69acc140d282b71a49"
  },
  "kernelspec": {
   "display_name": "Python 3.9.7 64-bit",
   "language": "python",
   "name": "python3"
  },
  "language_info": {
   "codemirror_mode": {
    "name": "ipython",
    "version": 3
   },
   "file_extension": ".py",
   "mimetype": "text/x-python",
   "name": "python",
   "nbconvert_exporter": "python",
   "pygments_lexer": "ipython3",
   "version": "3.6.8"
  },
  "orig_nbformat": 4
 },
 "nbformat": 4,
 "nbformat_minor": 2
}
