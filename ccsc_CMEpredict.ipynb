{
 "cells": [
  {
   "cell_type": "markdown",
   "metadata": {},
   "source": [
    "# Predicting Coronal Mass Ejections Using SDO/HMI Vector Magnetic Data Products and Recurrent Neural Networks\n",
    "\n",
    "### Hao Liu, Chang Liu, Jason T. L. Wang, Haimin Wang, and Shaya Goldberg\n",
    "\n",
    "Institute for Space Weather Sciences, New Jersey Institute of Technology"
   ]
  },
  {
   "cell_type": "markdown",
   "metadata": {},
   "source": [
    "## 1. Introduction"
   ]
  },
  {
   "cell_type": "markdown",
   "metadata": {},
   "source": [
    "Coronal mass ejections (CMEs) are intense bursts of magnetic flux and plasma that are ejected from the Sun into interplanetary space. They are often associated with solar flares and originate from active regions (ARs) on the Sun’s photosphere where magnetic fields are strong and evolve rapidly. Major CMEs and their associated flares can cause severe influences on the near-Earth environment, resulting in potentially life-threatening consequences. Therefore, substantial efforts are being invested in developing new technologies for early detection and forecasting of flares and CMEs.\n",
    "\n",
    "In this notebook, we demonstrate 2 machine learning models to predict whether an AR that produces an M- or X-class flare will also produce a CME. The machine learning algorithms which we use include two types of recurrent neural networks (RNNs): a long short-term memory (LSTM) network and a gated recurrent unit (GRU) network. We show the models' prediction for various time windows (T), where T is the amount of time between the initial CME and the subsequent M- or X-class flare; using data from the National Centers for\n",
    "Environmental Information (NCEI) data catalog for years 2015-2019. The models were trained on NCEI data from years 2010-2014."
   ]
  },
  {
   "cell_type": "markdown",
   "metadata": {},
   "source": [
    "## 2. Workflow of CMEPredict"
   ]
  },
  {
   "cell_type": "markdown",
   "metadata": {},
   "source": [
    "### 2.1. Configuration"
   ]
  },
  {
   "cell_type": "code",
   "execution_count": null,
   "metadata": {},
   "outputs": [],
   "source": [
    "import sys\n",
    "sys.path.insert(0, './CMEpredict')\n",
    "\n",
    "from CMEpredict import *\n",
    "\n",
    "import pandas as pd\n",
    "import matplotlib.pyplot as plt\n",
    "from cycler import cycler\n",
    "from sklearn.metrics import confusion_matrix as cm, roc_curve, roc_auc_score"
   ]
  },
  {
   "cell_type": "code",
   "execution_count": null,
   "metadata": {},
   "outputs": [],
   "source": [
    "mask_value = 0\n",
    "series_len = 20\n",
    "epochs = 20\n",
    "batch_size = 256\n",
    "nclass = 2\n",
    "start_feature = 4"
   ]
  },
  {
   "cell_type": "markdown",
   "metadata": {},
   "source": [
    "### 2.2. Definition of features\n",
    "\n",
    "There are 18 features, or predictive parameters, which characterize AR magnetic field properties for CME predictions:\n",
    "\n",
    "1. **MEANPOT**: mean photospheric magnetic free energy\n",
    "1. **SHRGT45**: fraction of area with shear >45°\n",
    "1. **TOTPOT**: total photospheric magnetic free energy density\n",
    "1. **USFLUX**: total unsigned flux\n",
    "1. **MEANJZH**: mean current helicity\n",
    "1. **ABSNJZH**: absolute value of the net current helicity\n",
    "1. **SAVNCPP**: sum of the modulus of the net current per polarity\n",
    "1. **MEANALP**: mean characteristic twist parameter\n",
    "1. **MEANSHR**: mean shear angle\n",
    "1. **TOTUSJZ**: total unsigned vertical current\n",
    "1. **TOTUSJH**: total unsigned current helicity\n",
    "1. **MEANGAM**: mean angle of field from radial\n",
    "1. **MEANGBZ**: mean gradient of vertical field\n",
    "1. **MEANJZD**: mean vertical current density\n",
    "1. **AREA_ACR**: area of strong field pixels in the active region\n",
    "1. **R_VALUE**: sum of flux near polarity inversion line\n",
    "1. **MEANGBT**: mean gradient of total field\n",
    "1. **MEANGBH**: mean gradient of horizontal field"
   ]
  },
  {
   "cell_type": "markdown",
   "metadata": {},
   "source": [
    "### 2.3. Data Explanation and Sampling\n",
    "\n",
    "The NCEI data has 21 columns:\n",
    "\n",
    "The **Label** column has 3 values: _padding_, _N_, and _P_. _Padding_ means this is an auxiliary data sample used to construct time series for prediction. _N_ means there is a >=M class flare within the next x hours but the flare is not associated with a CME. _P_ means there is a >=M class flare within the next x hours and this flare is associated with a CME.\n",
    "\n",
    "The **NOAA AR NUM** and **HARP NUM** columns are identifying columns for the AR and HARP, respectively. \n",
    "\n",
    "The subsequent 18 columns are the 18 physical SHARP features."
   ]
  },
  {
   "cell_type": "code",
   "execution_count": null,
   "metadata": {},
   "outputs": [],
   "source": [
    "names = ['Label', 'Timestamp', 'NOAA AR NUM', 'HARP NUM',\n",
    "          'TOTUSJH', 'TOTPOT', 'TOTUSJZ', 'ABSNJZH', 'SAVNCPP', 'USFLUX', 'AREA_ACR',\n",
    "          'MEANPOT', 'R_VALUE', 'SHRGT45', 'MEANGAM', 'MEANJZH', 'MEANGBT', 'MEANGBZ',\n",
    "          'MEANJZD', 'MEANGBH', 'MEANSHR', 'MEANALP']\n",
    "sample_data = pd.read_csv('CMEpredict/normalized_testing_12.csv', names=names)\n",
    "display(sample_data)"
   ]
  },
  {
   "cell_type": "markdown",
   "metadata": {},
   "source": [
    "### 2.4 Prediction and Analysis"
   ]
  },
  {
   "cell_type": "markdown",
   "metadata": {},
   "source": [
    "#### 2.4.1. Predicting with Pre-Trained Models\n",
    "\n",
    "Each model `(rnn_type,time_window)` tuple differs in what the threshold for the probability is to consider it a Positive (P) result, if it's below this threshold then it's a Negative (N) result. We use this threshold in order to convert this into a Binary Classification problem.\n",
    "\n",
    "Additionally, each `(rnn_type,time_window)` tuple has its own count of top features which are used in the model prediction. Our research has shown that for each tuple<sub>i</sub> the top N<sub>i</sub> features achieved the best performance."
   ]
  },
  {
   "cell_type": "code",
   "execution_count": null,
   "metadata": {},
   "outputs": [],
   "source": [
    "import itertools\n",
    "time_windows = [12, 36, 60] # options are 12, 24, 36, 48, 60\n",
    "rnn_types = ['gru', 'lstm']\n",
    "cm_grid = [['TN','FP'], ['FN', 'TP']]\n",
    "\n",
    "results = {}\n",
    "\n",
    "for (time_window, type) in itertools.product(time_windows, rnn_types):\n",
    "    print(f'predicting for {time_window} hour window using {type}')\n",
    "    model_file = f'CMEpredict/{type}-{time_window}-model.h5'\n",
    "\n",
    "    n_features, threshold = get_n_features_thresh(type, time_window)\n",
    "\n",
    "    model = load_model(model_file)\n",
    "\n",
    "    test_data_file = f'CMEpredict/normalized_testing_{time_window}.csv'\n",
    "    X_test, y_test, nb_test = load_data(datafile=test_data_file,\n",
    "                                        series_len=series_len,\n",
    "                                        start_feature=start_feature,\n",
    "                                        n_features=n_features,\n",
    "                                        mask_value=mask_value,\n",
    "                                        type=type,\n",
    "                                        time_window=time_window)\n",
    "\n",
    "    prob = model.predict(X_test,\n",
    "                        batch_size=batch_size,\n",
    "                        verbose=False,\n",
    "                        steps=None)\n",
    "\n",
    "    bc = [1 if p >= threshold else 0 for p in prob]\n",
    "    confmat = cm(y_test, bc)\n",
    "    results[f'{type} {time_window}'] = (y_test, bc)\n",
    "    plt.imshow(confmat, interpolation='nearest', cmap=(plt.cm.PuBu if type =='lstm' else plt.cm.OrRd))\n",
    "    classNames = ['Negative','Positive']\n",
    "    plt.title(f'{type.upper()} {time_window} Hour Confusion Matrix')\n",
    "    plt.ylabel('True Label')\n",
    "    plt.xlabel('Predicted Label')\n",
    "    tick_marks = np.arange(len(classNames))\n",
    "    plt.xticks(tick_marks, classNames, rotation=45)\n",
    "    plt.yticks(tick_marks, classNames)\n",
    "    for i in range(2):\n",
    "        for j in range(2):\n",
    "            plt.text(j,i, f'{cm_grid[i][j]} = {confmat[i][j]}', horizontalalignment='center')\n",
    "    plt.show()"
   ]
  },
  {
   "cell_type": "markdown",
   "metadata": {},
   "source": [
    "#### 2.4.2. Analysis of Predictions\n"
   ]
  },
  {
   "cell_type": "code",
   "execution_count": null,
   "metadata": {},
   "outputs": [],
   "source": [
    "plt.rc('axes', prop_cycle=(cycler('color', ['r', 'g', 'b', 'y', 'c', 'k']) *\n",
    "                           cycler('linestyle', ['-', '--', ':', '-.'])))\n",
    "for name, (y_test, bc) in results.items():\n",
    "    r_auc = roc_auc_score(y_test, bc)\n",
    "    r_fpr, r_tpr, _ = roc_curve(y_test, bc)\n",
    "    plt.plot(r_fpr, r_tpr, label=f'{name.upper()} Hour (AUROC = %0.3f)' % r_auc)\n",
    "plt.title('ROC Plot')\n",
    "\n",
    "plt.xlabel('False Positive Rate')\n",
    "plt.ylabel('True Positive Rate')\n",
    "\n",
    "plt.legend() \n",
    "\n",
    "plt.show()"
   ]
  },
  {
   "cell_type": "markdown",
   "metadata": {},
   "source": [
    "### 2.5. Train your own model\n",
    "\n",
    "In order to train your own model, change the appropriate variables below; run the cell; and rerun the prediction cells above. The new model will overwrite the pre-trained model file."
   ]
  },
  {
   "cell_type": "code",
   "execution_count": null,
   "metadata": {},
   "outputs": [],
   "source": [
    "# CHANGE THESE VARIABLES#\n",
    "time_window = 12        # 12, 24, 36, 48, 60\n",
    "type = 'lstm'           # 'lstm', 'gru'\n",
    "#########################\n",
    "\n",
    "train_data_file = f'CMEpredict/normalized_training_{time_window}.csv'\n",
    "n_features, thresh = get_n_features_thresh(type, time_window)\n",
    "X_train, y_train, nb_train = load_data(datafile=train_data_file,\n",
    "                                        series_len=series_len,\n",
    "                                        start_feature=start_feature,\n",
    "                                        n_features=n_features,\n",
    "                                        mask_value=mask_value,\n",
    "                                        type=type,\n",
    "                                        time_window=time_window)\n",
    "\n",
    "class_weights = class_weight.compute_class_weight('balanced', np.unique(y_train), y_train)\n",
    "class_weight_ = {0: class_weights[0], 1: class_weights[1]}\n",
    "\n",
    "if type is 'lstm':\n",
    "    model = lstm(n_features, series_len)  \n",
    "elif type  is 'gru':\n",
    "    model = gru(n_features, series_len)\n",
    "\n",
    "print('training the model, wait until it is finished...')\n",
    "model.compile(loss='binary_crossentropy',\n",
    "                optimizer='RMSprop',\n",
    "                metrics=['accuracy'])\n",
    "\n",
    "history = model.fit(X_train,\n",
    "                    y_train,\n",
    "                    epochs=epochs,\n",
    "                    batch_size=batch_size,\n",
    "                    verbose=False,\n",
    "                    shuffle=True,\n",
    "                    class_weight=class_weight_)\n",
    "model_file = f'CMEpredict/{type}-{time_window}-model.h5'\n",
    "model.save(model_file)\n",
    "print('done training the model')"
   ]
  },
  {
   "cell_type": "markdown",
   "metadata": {},
   "source": [
    "## 3. References\n",
    "\n",
    "Predicting Coronal Mass Ejections Using SDO/HMI Vector Magnetic Data Products and Recurrent Neural Networks. Liu, H., Liu, C., Wang, J. T. L., Wang, H., ApJ., 890:12, 2020  \n",
    "\n",
    "https://iopscience.iop.org/article/10.3847/1538-4357/ab6850\n",
    "\n",
    "https://arxiv.org/abs/2002.10953\n",
    "\n",
    "https://web.njit.edu/~wangj/RNNcme/"
   ]
  }
 ],
 "metadata": {
  "interpreter": {
   "hash": "aee8b7b246df8f9039afb4144a1f6fd8d2ca17a180786b69acc140d282b71a49"
  },
  "kernelspec": {
   "display_name": "Python 3.9.7 64-bit",
   "language": "python",
   "name": "python3"
  },
  "language_info": {
   "codemirror_mode": {
    "name": "ipython",
    "version": 3
   },
   "file_extension": ".py",
   "mimetype": "text/x-python",
   "name": "python",
   "nbconvert_exporter": "python",
   "pygments_lexer": "ipython3",
   "version": "3.6.8"
  },
  "orig_nbformat": 4
 },
 "nbformat": 4,
 "nbformat_minor": 2
}
